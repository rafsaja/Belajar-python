{
  "metadata": {
    "kernelspec": {
      "name": "python",
      "display_name": "Python (Pyodide)",
      "language": "python"
    },
    "language_info": {
      "codemirror_mode": {
        "name": "python",
        "version": 3
      },
      "file_extension": ".py",
      "mimetype": "text/x-python",
      "name": "python",
      "nbconvert_exporter": "python",
      "pygments_lexer": "ipython3",
      "version": "3.8"
    }
  },
  "nbformat_minor": 4,
  "nbformat": 4,
  "cells": [
    {
      "cell_type": "markdown",
      "source": "# Len()",
      "metadata": {}
    },
    {
      "cell_type": "code",
      "source": "# Len()\n\n# 1. LIST\n\nlist_angka = [1,2,3,4,5,6,7,8,9,10]\n\nprint(list_angka)\nprint()\nprint(\"Panjang list angkanya adalah:\",len(list_angka))",
      "metadata": {
        "trusted": true
      },
      "outputs": [
        {
          "name": "stdout",
          "text": "[1, 2, 3, 4, 5, 6, 7, 8, 9, 10]\n\nPanjang list angkanya adalah: 10\n",
          "output_type": "stream"
        }
      ],
      "execution_count": 12
    },
    {
      "cell_type": "code",
      "source": "# 2. Set\n\nset_angka = set([1,2,3,4,5,6,7,8,9,10])\n\nprint(\"Tipe set angka adalah:\", type(set_angka))",
      "metadata": {
        "trusted": true
      },
      "outputs": [
        {
          "name": "stdout",
          "text": "Tipe set angka adalah: <class 'set'>\n",
          "output_type": "stream"
        }
      ],
      "execution_count": 15
    },
    {
      "cell_type": "code",
      "source": "# 3. String \n\ncontoh_kalimat = \"Saya adalah seorang asisten dosen\"\n\nprint(contoh_kalimat)\nprint()\nprint(len(contoh_kalimat))",
      "metadata": {
        "trusted": true
      },
      "outputs": [
        {
          "name": "stdout",
          "text": "Saya adalah seorang asisten dosen\n\n33\n",
          "output_type": "stream"
        }
      ],
      "execution_count": 17
    },
    {
      "cell_type": "markdown",
      "source": "# Min & Max\n\n",
      "metadata": {},
      "attachments": {}
    },
    {
      "cell_type": "code",
      "source": "list_angka \n\nprint(\"Angka ini adalah minimum list:\", min(list_angka))\nprint()\nprint(\"Angka ini adalah maximum list:\", max(list_angka))",
      "metadata": {
        "trusted": true
      },
      "outputs": [
        {
          "name": "stdout",
          "text": "Angka ini adalah minimum list: 1\n\nAngka ini adalah maximum list: 10\n",
          "output_type": "stream"
        }
      ],
      "execution_count": 23
    },
    {
      "cell_type": "markdown",
      "source": "# Count",
      "metadata": {}
    },
    {
      "cell_type": "code",
      "source": "list_angka_genap = [ 2, 4, 6, 9 , 1, 5, 8 , 10,4, 4, 4] \nprint(list_angka_genap.count(4))",
      "metadata": {
        "trusted": true
      },
      "outputs": [
        {
          "name": "stdout",
          "text": "4\n",
          "output_type": "stream"
        }
      ],
      "execution_count": 28
    },
    {
      "cell_type": "code",
      "source": "print(kalimat_1.count(Huruf_e))",
      "metadata": {
        "trusted": true
      },
      "outputs": [
        {
          "name": "stdout",
          "text": "7\n",
          "output_type": "stream"
        }
      ],
      "execution_count": 34
    },
    {
      "cell_type": "markdown",
      "source": "# In & Not In\n",
      "metadata": {}
    },
    {
      "cell_type": "code",
      "source": "kalimat_coba = \"Saya adalah seorang asisten dosen. Saya suka makan pisang, saya akan merekap absen dan nilai\"\nprint(\"Saya\" in kalimat_coba)\nprint(\"saya\" in kalimat_coba)\nprint(\"Aku\" in kalimat_coba)",
      "metadata": {
        "trusted": true
      },
      "outputs": [
        {
          "name": "stdout",
          "text": "True\nTrue\nFalse\n",
          "output_type": "stream"
        }
      ],
      "execution_count": 38
    },
    {
      "cell_type": "code",
      "source": "print(\"Aku\" not in kalimat_coba)\nprint(\"saya\" not in kalimat_coba)\nprint(\"Saya\" not in kalimat_coba)",
      "metadata": {
        "trusted": true
      },
      "outputs": [
        {
          "name": "stdout",
          "text": "True\nFalse\nFalse\n",
          "output_type": "stream"
        }
      ],
      "execution_count": 41
    },
    {
      "cell_type": "markdown",
      "source": "# Memberikan Nilai pada variabel multiple\n\nMenandai suatu nilai dalam list atau tuple dengan suatu nilai sesuai keinginan",
      "metadata": {}
    },
    {
      "cell_type": "code",
      "source": "kalimat_1 = \"Saya adalah seorang asisten dosen, senang bertemu dengan annda!\"\nHuruf_e = \"e\"\nprint(kalimat_1)",
      "metadata": {
        "trusted": true
      },
      "outputs": [
        {
          "name": "stdout",
          "text": "Saya adalah seorang asisten dosen, senang bertemu dengan annda!\n",
          "output_type": "stream"
        }
      ],
      "execution_count": 33
    },
    {
      "cell_type": "code",
      "source": "buronan_kpk = [\"Ahmad\", \"Jauhari\", \"Rifa'i\", \"magdalena\", \"Diaz\"]\n\ntersangka_1 = buronan_kpk[0]\ntersangka_2 = buronan_kpk[1]\ntersangka_3 = buronan_kpk[2]\ntersangka_4 = buronan_kpk[3]\ntersangka_5 = buronan_kpk[4]\n\nprint(tersangka_1)\nprint(tersangka_2)\nprint(tersangka_3)\nprint(tersangka_4)\nprint(tersangka_5)\n\n\n",
      "metadata": {
        "trusted": true
      },
      "outputs": [
        {
          "name": "stdout",
          "text": "Ahmad\nJauhari\nRifa'i\nmagdalena\nDiaz\n",
          "output_type": "stream"
        }
      ],
      "execution_count": 44
    },
    {
      "cell_type": "markdown",
      "source": "# Sort",
      "metadata": {}
    },
    {
      "cell_type": "code",
      "source": "list_mahasiswa_b_absen =[ '1.Muhammad iqbal kurnia adjie (233510728)', \n'2.Salsabillah Ramadhani (233510313)',\n'3.Daffa Erfin (233510462)',\n'4.Yudi Ahmadi Siregar (233510616)']\n\nprint(\"Sebelum Sort:\",list_mahasiswa_b_absen)\n\nlist_mahasiswa_b_absen.sort(reverse= True)\n\nprint()\nprint(\"Setelah Sort:\",list_mahasiswa_b_absen)",
      "metadata": {
        "trusted": true
      },
      "outputs": [
        {
          "name": "stdout",
          "text": "Sebelum Sort: ['1.Muhammad iqbal kurnia adjie (233510728)', '2.Salsabillah Ramadhani (233510313)', '3.Daffa Erfin (233510462)', '4.Yudi Ahmadi Siregar\\xa0(233510616)']\n\nSetelah Sort: ['4.Yudi Ahmadi Siregar\\xa0(233510616)', '3.Daffa Erfin (233510462)', '2.Salsabillah Ramadhani (233510313)', '1.Muhammad iqbal kurnia adjie (233510728)']\n",
          "output_type": "stream"
        }
      ],
      "execution_count": 62
    },
    {
      "cell_type": "code",
      "source": "# sort tidak bisa pada data gabungan int,dan string \n\nkalimat = [ 'saya' , 1 , 5 , ' apel ' ]\n\nkalimat.sort()\n\nkalimat",
      "metadata": {
        "trusted": true
      },
      "outputs": [
        {
          "ename": "<class 'TypeError'>",
          "evalue": "'<' not supported between instances of 'int' and 'str'",
          "traceback": [
            "\u001b[0;31m---------------------------------------------------------------------------\u001b[0m",
            "\u001b[0;31mTypeError\u001b[0m                                 Traceback (most recent call last)",
            "Cell \u001b[0;32mIn[65], line 5\u001b[0m\n\u001b[1;32m      1\u001b[0m \u001b[38;5;66;03m# sort tidak bisa pada data gabungan int,dan string \u001b[39;00m\n\u001b[1;32m      3\u001b[0m kalimat \u001b[38;5;241m=\u001b[39m [ \u001b[38;5;124m'\u001b[39m\u001b[38;5;124msaya\u001b[39m\u001b[38;5;124m'\u001b[39m , \u001b[38;5;241m1\u001b[39m , \u001b[38;5;241m5\u001b[39m , \u001b[38;5;124m'\u001b[39m\u001b[38;5;124m apel \u001b[39m\u001b[38;5;124m'\u001b[39m ]\n\u001b[0;32m----> 5\u001b[0m \u001b[43mkalimat\u001b[49m\u001b[38;5;241;43m.\u001b[39;49m\u001b[43msort\u001b[49m\u001b[43m(\u001b[49m\u001b[43m)\u001b[49m\n\u001b[1;32m      7\u001b[0m kalimat\n",
            "\u001b[0;31mTypeError\u001b[0m: '<' not supported between instances of 'int' and 'str'"
          ],
          "output_type": "error"
        }
      ],
      "execution_count": 65
    },
    {
      "cell_type": "code",
      "source": "# pada sort upper case akan terlebih dahulu ketimbang lower case\n\nkalimat_modif = [ 'saya' , 1 , 5 , ' Apel ' ]\n\nkalimat_modif",
      "metadata": {
        "trusted": true
      },
      "outputs": [
        {
          "execution_count": 67,
          "output_type": "execute_result",
          "data": {
            "text/plain": "['saya', 1, 5, ' Apel ']"
          },
          "metadata": {}
        }
      ],
      "execution_count": 67
    },
    {
      "cell_type": "code",
      "source": "",
      "metadata": {
        "trusted": true
      },
      "outputs": [],
      "execution_count": null
    }
  ]
}